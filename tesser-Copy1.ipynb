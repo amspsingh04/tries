{
 "cells": [
  {
   "cell_type": "code",
   "execution_count": 1,
   "id": "f427905a",
   "metadata": {},
   "outputs": [],
   "source": [
    "from IPython import display \n",
    "import os"
   ]
  },
  {
   "cell_type": "code",
   "execution_count": 2,
   "id": "934141ef",
   "metadata": {},
   "outputs": [],
   "source": [
    "!pip install pytesseract\n",
    "display.clear_output()"
   ]
  },
  {
   "cell_type": "code",
   "execution_count": 3,
   "id": "e62f4a6b",
   "metadata": {},
   "outputs": [],
   "source": [
    "import pytesseract\n",
    "from PIL import Image"
   ]
  },
  {
   "cell_type": "code",
   "execution_count": 4,
   "id": "1085d1b0",
   "metadata": {},
   "outputs": [],
   "source": [
    "img_file=\"C:/Users\\spsin\\Pictures\\image 1.jpg\"\n",
    "img = Image.open(img_file)"
   ]
  },
  {
   "cell_type": "code",
   "execution_count": 5,
   "id": "93fc35fc",
   "metadata": {},
   "outputs": [],
   "source": [
    "pytesseract.pytesseract.tesseract_cmd = r'E:/tesseract/tesseract.exe'"
   ]
  },
  {
   "cell_type": "code",
   "execution_count": 6,
   "id": "dd990b0c",
   "metadata": {},
   "outputs": [
    {
     "name": "stdout",
     "output_type": "stream",
     "text": [
      "2 ee\n",
      "\n",
      "Create a C program to fork two user threads namely, T1 ani\n",
      "id and has to wait for a random amount of time before it can res\\\n",
      "T2 prints its thread id and waits till T1 is ready to join. T1 resumes i\n",
      "and performs one system call and one user-defined function call. Both the\n",
      "simed and displayed on the screen. After display, T1 and 72 joins and exits.\n",
      "\n",
      "\n"
     ]
    }
   ],
   "source": [
    "ocr_result = pytesseract.image_to_string(img)\n",
    "print(ocr_result)"
   ]
  },
  {
   "cell_type": "code",
   "execution_count": null,
   "id": "e43d4244",
   "metadata": {},
   "outputs": [],
   "source": []
  }
 ],
 "metadata": {
  "kernelspec": {
   "display_name": "Python 3 (ipykernel)",
   "language": "python",
   "name": "python3"
  },
  "language_info": {
   "codemirror_mode": {
    "name": "ipython",
    "version": 3
   },
   "file_extension": ".py",
   "mimetype": "text/x-python",
   "name": "python",
   "nbconvert_exporter": "python",
   "pygments_lexer": "ipython3",
   "version": "3.11.4"
  }
 },
 "nbformat": 4,
 "nbformat_minor": 5
}
